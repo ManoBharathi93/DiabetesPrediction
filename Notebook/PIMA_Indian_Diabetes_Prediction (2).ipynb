{
  "nbformat": 4,
  "nbformat_minor": 0,
  "metadata": {
    "colab": {
      "provenance": []
    },
    "kernelspec": {
      "name": "python3",
      "display_name": "Python 3"
    },
    "language_info": {
      "name": "python"
    },
    "accelerator": "GPU",
    "gpuClass": "standard"
  },
  "cells": [
    {
      "cell_type": "code",
      "execution_count": 1,
      "metadata": {
        "id": "QzDfza4wVIS-"
      },
      "outputs": [],
      "source": [
        "#Import Libraries\n",
        "import pandas as pd\n",
        "import numpy as np\n",
        "from google.colab import files\n",
        "import matplotlib.pyplot as plt\n"
      ]
    },
    {
      "cell_type": "markdown",
      "source": [
        "# Getting the dataset and converting into dataframe"
      ],
      "metadata": {
        "id": "ljvcG8G8i-bG"
      }
    },
    {
      "cell_type": "code",
      "source": [
        "dataset = files.upload()\n"
      ],
      "metadata": {
        "id": "kWcXDWkbaTCr",
        "colab": {
          "base_uri": "https://localhost:8080/",
          "height": 73
        },
        "outputId": "809d37ba-d929-4151-b9be-2b89e91c0f94"
      },
      "execution_count": 2,
      "outputs": [
        {
          "output_type": "display_data",
          "data": {
            "text/plain": [
              "<IPython.core.display.HTML object>"
            ],
            "text/html": [
              "\n",
              "     <input type=\"file\" id=\"files-74d133a0-6c63-40b2-9a3f-4abea63fa3f5\" name=\"files[]\" multiple disabled\n",
              "        style=\"border:none\" />\n",
              "     <output id=\"result-74d133a0-6c63-40b2-9a3f-4abea63fa3f5\">\n",
              "      Upload widget is only available when the cell has been executed in the\n",
              "      current browser session. Please rerun this cell to enable.\n",
              "      </output>\n",
              "      <script>// Copyright 2017 Google LLC\n",
              "//\n",
              "// Licensed under the Apache License, Version 2.0 (the \"License\");\n",
              "// you may not use this file except in compliance with the License.\n",
              "// You may obtain a copy of the License at\n",
              "//\n",
              "//      http://www.apache.org/licenses/LICENSE-2.0\n",
              "//\n",
              "// Unless required by applicable law or agreed to in writing, software\n",
              "// distributed under the License is distributed on an \"AS IS\" BASIS,\n",
              "// WITHOUT WARRANTIES OR CONDITIONS OF ANY KIND, either express or implied.\n",
              "// See the License for the specific language governing permissions and\n",
              "// limitations under the License.\n",
              "\n",
              "/**\n",
              " * @fileoverview Helpers for google.colab Python module.\n",
              " */\n",
              "(function(scope) {\n",
              "function span(text, styleAttributes = {}) {\n",
              "  const element = document.createElement('span');\n",
              "  element.textContent = text;\n",
              "  for (const key of Object.keys(styleAttributes)) {\n",
              "    element.style[key] = styleAttributes[key];\n",
              "  }\n",
              "  return element;\n",
              "}\n",
              "\n",
              "// Max number of bytes which will be uploaded at a time.\n",
              "const MAX_PAYLOAD_SIZE = 100 * 1024;\n",
              "\n",
              "function _uploadFiles(inputId, outputId) {\n",
              "  const steps = uploadFilesStep(inputId, outputId);\n",
              "  const outputElement = document.getElementById(outputId);\n",
              "  // Cache steps on the outputElement to make it available for the next call\n",
              "  // to uploadFilesContinue from Python.\n",
              "  outputElement.steps = steps;\n",
              "\n",
              "  return _uploadFilesContinue(outputId);\n",
              "}\n",
              "\n",
              "// This is roughly an async generator (not supported in the browser yet),\n",
              "// where there are multiple asynchronous steps and the Python side is going\n",
              "// to poll for completion of each step.\n",
              "// This uses a Promise to block the python side on completion of each step,\n",
              "// then passes the result of the previous step as the input to the next step.\n",
              "function _uploadFilesContinue(outputId) {\n",
              "  const outputElement = document.getElementById(outputId);\n",
              "  const steps = outputElement.steps;\n",
              "\n",
              "  const next = steps.next(outputElement.lastPromiseValue);\n",
              "  return Promise.resolve(next.value.promise).then((value) => {\n",
              "    // Cache the last promise value to make it available to the next\n",
              "    // step of the generator.\n",
              "    outputElement.lastPromiseValue = value;\n",
              "    return next.value.response;\n",
              "  });\n",
              "}\n",
              "\n",
              "/**\n",
              " * Generator function which is called between each async step of the upload\n",
              " * process.\n",
              " * @param {string} inputId Element ID of the input file picker element.\n",
              " * @param {string} outputId Element ID of the output display.\n",
              " * @return {!Iterable<!Object>} Iterable of next steps.\n",
              " */\n",
              "function* uploadFilesStep(inputId, outputId) {\n",
              "  const inputElement = document.getElementById(inputId);\n",
              "  inputElement.disabled = false;\n",
              "\n",
              "  const outputElement = document.getElementById(outputId);\n",
              "  outputElement.innerHTML = '';\n",
              "\n",
              "  const pickedPromise = new Promise((resolve) => {\n",
              "    inputElement.addEventListener('change', (e) => {\n",
              "      resolve(e.target.files);\n",
              "    });\n",
              "  });\n",
              "\n",
              "  const cancel = document.createElement('button');\n",
              "  inputElement.parentElement.appendChild(cancel);\n",
              "  cancel.textContent = 'Cancel upload';\n",
              "  const cancelPromise = new Promise((resolve) => {\n",
              "    cancel.onclick = () => {\n",
              "      resolve(null);\n",
              "    };\n",
              "  });\n",
              "\n",
              "  // Wait for the user to pick the files.\n",
              "  const files = yield {\n",
              "    promise: Promise.race([pickedPromise, cancelPromise]),\n",
              "    response: {\n",
              "      action: 'starting',\n",
              "    }\n",
              "  };\n",
              "\n",
              "  cancel.remove();\n",
              "\n",
              "  // Disable the input element since further picks are not allowed.\n",
              "  inputElement.disabled = true;\n",
              "\n",
              "  if (!files) {\n",
              "    return {\n",
              "      response: {\n",
              "        action: 'complete',\n",
              "      }\n",
              "    };\n",
              "  }\n",
              "\n",
              "  for (const file of files) {\n",
              "    const li = document.createElement('li');\n",
              "    li.append(span(file.name, {fontWeight: 'bold'}));\n",
              "    li.append(span(\n",
              "        `(${file.type || 'n/a'}) - ${file.size} bytes, ` +\n",
              "        `last modified: ${\n",
              "            file.lastModifiedDate ? file.lastModifiedDate.toLocaleDateString() :\n",
              "                                    'n/a'} - `));\n",
              "    const percent = span('0% done');\n",
              "    li.appendChild(percent);\n",
              "\n",
              "    outputElement.appendChild(li);\n",
              "\n",
              "    const fileDataPromise = new Promise((resolve) => {\n",
              "      const reader = new FileReader();\n",
              "      reader.onload = (e) => {\n",
              "        resolve(e.target.result);\n",
              "      };\n",
              "      reader.readAsArrayBuffer(file);\n",
              "    });\n",
              "    // Wait for the data to be ready.\n",
              "    let fileData = yield {\n",
              "      promise: fileDataPromise,\n",
              "      response: {\n",
              "        action: 'continue',\n",
              "      }\n",
              "    };\n",
              "\n",
              "    // Use a chunked sending to avoid message size limits. See b/62115660.\n",
              "    let position = 0;\n",
              "    do {\n",
              "      const length = Math.min(fileData.byteLength - position, MAX_PAYLOAD_SIZE);\n",
              "      const chunk = new Uint8Array(fileData, position, length);\n",
              "      position += length;\n",
              "\n",
              "      const base64 = btoa(String.fromCharCode.apply(null, chunk));\n",
              "      yield {\n",
              "        response: {\n",
              "          action: 'append',\n",
              "          file: file.name,\n",
              "          data: base64,\n",
              "        },\n",
              "      };\n",
              "\n",
              "      let percentDone = fileData.byteLength === 0 ?\n",
              "          100 :\n",
              "          Math.round((position / fileData.byteLength) * 100);\n",
              "      percent.textContent = `${percentDone}% done`;\n",
              "\n",
              "    } while (position < fileData.byteLength);\n",
              "  }\n",
              "\n",
              "  // All done.\n",
              "  yield {\n",
              "    response: {\n",
              "      action: 'complete',\n",
              "    }\n",
              "  };\n",
              "}\n",
              "\n",
              "scope.google = scope.google || {};\n",
              "scope.google.colab = scope.google.colab || {};\n",
              "scope.google.colab._files = {\n",
              "  _uploadFiles,\n",
              "  _uploadFilesContinue,\n",
              "};\n",
              "})(self);\n",
              "</script> "
            ]
          },
          "metadata": {}
        },
        {
          "output_type": "stream",
          "name": "stdout",
          "text": [
            "Saving diabetes.csv to diabetes.csv\n"
          ]
        }
      ]
    },
    {
      "cell_type": "code",
      "source": [
        "dataframe = pd.read_csv('/content/diabetes.csv')"
      ],
      "metadata": {
        "id": "sSQd9ab6bXj8"
      },
      "execution_count": 3,
      "outputs": []
    },
    {
      "cell_type": "code",
      "source": [
        "dataframe.head()"
      ],
      "metadata": {
        "colab": {
          "base_uri": "https://localhost:8080/",
          "height": 206
        },
        "id": "RXLG519-bhqz",
        "outputId": "3e883c7c-e499-42a2-ec9a-887b034ac175"
      },
      "execution_count": 4,
      "outputs": [
        {
          "output_type": "execute_result",
          "data": {
            "text/plain": [
              "   Pregnancies  Glucose  BloodPressure  SkinThickness  Insulin   BMI  \\\n",
              "0            6      148             72             35        0  33.6   \n",
              "1            1       85             66             29        0  26.6   \n",
              "2            8      183             64              0        0  23.3   \n",
              "3            1       89             66             23       94  28.1   \n",
              "4            0      137             40             35      168  43.1   \n",
              "\n",
              "   DiabetesPedigreeFunction  Age  Outcome  \n",
              "0                     0.627   50        1  \n",
              "1                     0.351   31        0  \n",
              "2                     0.672   32        1  \n",
              "3                     0.167   21        0  \n",
              "4                     2.288   33        1  "
            ],
            "text/html": [
              "\n",
              "  <div id=\"df-766445c4-14ab-4a2d-ada5-7183acc4619b\">\n",
              "    <div class=\"colab-df-container\">\n",
              "      <div>\n",
              "<style scoped>\n",
              "    .dataframe tbody tr th:only-of-type {\n",
              "        vertical-align: middle;\n",
              "    }\n",
              "\n",
              "    .dataframe tbody tr th {\n",
              "        vertical-align: top;\n",
              "    }\n",
              "\n",
              "    .dataframe thead th {\n",
              "        text-align: right;\n",
              "    }\n",
              "</style>\n",
              "<table border=\"1\" class=\"dataframe\">\n",
              "  <thead>\n",
              "    <tr style=\"text-align: right;\">\n",
              "      <th></th>\n",
              "      <th>Pregnancies</th>\n",
              "      <th>Glucose</th>\n",
              "      <th>BloodPressure</th>\n",
              "      <th>SkinThickness</th>\n",
              "      <th>Insulin</th>\n",
              "      <th>BMI</th>\n",
              "      <th>DiabetesPedigreeFunction</th>\n",
              "      <th>Age</th>\n",
              "      <th>Outcome</th>\n",
              "    </tr>\n",
              "  </thead>\n",
              "  <tbody>\n",
              "    <tr>\n",
              "      <th>0</th>\n",
              "      <td>6</td>\n",
              "      <td>148</td>\n",
              "      <td>72</td>\n",
              "      <td>35</td>\n",
              "      <td>0</td>\n",
              "      <td>33.6</td>\n",
              "      <td>0.627</td>\n",
              "      <td>50</td>\n",
              "      <td>1</td>\n",
              "    </tr>\n",
              "    <tr>\n",
              "      <th>1</th>\n",
              "      <td>1</td>\n",
              "      <td>85</td>\n",
              "      <td>66</td>\n",
              "      <td>29</td>\n",
              "      <td>0</td>\n",
              "      <td>26.6</td>\n",
              "      <td>0.351</td>\n",
              "      <td>31</td>\n",
              "      <td>0</td>\n",
              "    </tr>\n",
              "    <tr>\n",
              "      <th>2</th>\n",
              "      <td>8</td>\n",
              "      <td>183</td>\n",
              "      <td>64</td>\n",
              "      <td>0</td>\n",
              "      <td>0</td>\n",
              "      <td>23.3</td>\n",
              "      <td>0.672</td>\n",
              "      <td>32</td>\n",
              "      <td>1</td>\n",
              "    </tr>\n",
              "    <tr>\n",
              "      <th>3</th>\n",
              "      <td>1</td>\n",
              "      <td>89</td>\n",
              "      <td>66</td>\n",
              "      <td>23</td>\n",
              "      <td>94</td>\n",
              "      <td>28.1</td>\n",
              "      <td>0.167</td>\n",
              "      <td>21</td>\n",
              "      <td>0</td>\n",
              "    </tr>\n",
              "    <tr>\n",
              "      <th>4</th>\n",
              "      <td>0</td>\n",
              "      <td>137</td>\n",
              "      <td>40</td>\n",
              "      <td>35</td>\n",
              "      <td>168</td>\n",
              "      <td>43.1</td>\n",
              "      <td>2.288</td>\n",
              "      <td>33</td>\n",
              "      <td>1</td>\n",
              "    </tr>\n",
              "  </tbody>\n",
              "</table>\n",
              "</div>\n",
              "      <button class=\"colab-df-convert\" onclick=\"convertToInteractive('df-766445c4-14ab-4a2d-ada5-7183acc4619b')\"\n",
              "              title=\"Convert this dataframe to an interactive table.\"\n",
              "              style=\"display:none;\">\n",
              "        \n",
              "  <svg xmlns=\"http://www.w3.org/2000/svg\" height=\"24px\"viewBox=\"0 0 24 24\"\n",
              "       width=\"24px\">\n",
              "    <path d=\"M0 0h24v24H0V0z\" fill=\"none\"/>\n",
              "    <path d=\"M18.56 5.44l.94 2.06.94-2.06 2.06-.94-2.06-.94-.94-2.06-.94 2.06-2.06.94zm-11 1L8.5 8.5l.94-2.06 2.06-.94-2.06-.94L8.5 2.5l-.94 2.06-2.06.94zm10 10l.94 2.06.94-2.06 2.06-.94-2.06-.94-.94-2.06-.94 2.06-2.06.94z\"/><path d=\"M17.41 7.96l-1.37-1.37c-.4-.4-.92-.59-1.43-.59-.52 0-1.04.2-1.43.59L10.3 9.45l-7.72 7.72c-.78.78-.78 2.05 0 2.83L4 21.41c.39.39.9.59 1.41.59.51 0 1.02-.2 1.41-.59l7.78-7.78 2.81-2.81c.8-.78.8-2.07 0-2.86zM5.41 20L4 18.59l7.72-7.72 1.47 1.35L5.41 20z\"/>\n",
              "  </svg>\n",
              "      </button>\n",
              "      \n",
              "  <style>\n",
              "    .colab-df-container {\n",
              "      display:flex;\n",
              "      flex-wrap:wrap;\n",
              "      gap: 12px;\n",
              "    }\n",
              "\n",
              "    .colab-df-convert {\n",
              "      background-color: #E8F0FE;\n",
              "      border: none;\n",
              "      border-radius: 50%;\n",
              "      cursor: pointer;\n",
              "      display: none;\n",
              "      fill: #1967D2;\n",
              "      height: 32px;\n",
              "      padding: 0 0 0 0;\n",
              "      width: 32px;\n",
              "    }\n",
              "\n",
              "    .colab-df-convert:hover {\n",
              "      background-color: #E2EBFA;\n",
              "      box-shadow: 0px 1px 2px rgba(60, 64, 67, 0.3), 0px 1px 3px 1px rgba(60, 64, 67, 0.15);\n",
              "      fill: #174EA6;\n",
              "    }\n",
              "\n",
              "    [theme=dark] .colab-df-convert {\n",
              "      background-color: #3B4455;\n",
              "      fill: #D2E3FC;\n",
              "    }\n",
              "\n",
              "    [theme=dark] .colab-df-convert:hover {\n",
              "      background-color: #434B5C;\n",
              "      box-shadow: 0px 1px 3px 1px rgba(0, 0, 0, 0.15);\n",
              "      filter: drop-shadow(0px 1px 2px rgba(0, 0, 0, 0.3));\n",
              "      fill: #FFFFFF;\n",
              "    }\n",
              "  </style>\n",
              "\n",
              "      <script>\n",
              "        const buttonEl =\n",
              "          document.querySelector('#df-766445c4-14ab-4a2d-ada5-7183acc4619b button.colab-df-convert');\n",
              "        buttonEl.style.display =\n",
              "          google.colab.kernel.accessAllowed ? 'block' : 'none';\n",
              "\n",
              "        async function convertToInteractive(key) {\n",
              "          const element = document.querySelector('#df-766445c4-14ab-4a2d-ada5-7183acc4619b');\n",
              "          const dataTable =\n",
              "            await google.colab.kernel.invokeFunction('convertToInteractive',\n",
              "                                                     [key], {});\n",
              "          if (!dataTable) return;\n",
              "\n",
              "          const docLinkHtml = 'Like what you see? Visit the ' +\n",
              "            '<a target=\"_blank\" href=https://colab.research.google.com/notebooks/data_table.ipynb>data table notebook</a>'\n",
              "            + ' to learn more about interactive tables.';\n",
              "          element.innerHTML = '';\n",
              "          dataTable['output_type'] = 'display_data';\n",
              "          await google.colab.output.renderOutput(dataTable, element);\n",
              "          const docLink = document.createElement('div');\n",
              "          docLink.innerHTML = docLinkHtml;\n",
              "          element.appendChild(docLink);\n",
              "        }\n",
              "      </script>\n",
              "    </div>\n",
              "  </div>\n",
              "  "
            ]
          },
          "metadata": {},
          "execution_count": 4
        }
      ]
    },
    {
      "cell_type": "markdown",
      "source": [
        "# Defining features and target Variable"
      ],
      "metadata": {
        "id": "cZGvNwsoiuLQ"
      }
    },
    {
      "cell_type": "code",
      "source": [
        "from keras.models import Sequential\n",
        "from keras.layers import Dense\n",
        "import random\n",
        "import pandas as pd\n",
        "import numpy as np\n",
        "from sklearn.model_selection import train_test_split\n",
        "random.seed(42)\n",
        "\n",
        "y = dataframe.Outcome\n",
        "x = dataframe.drop('Outcome',axis=1)\n",
        "#x = dataframe.iloc[:,0:8]\n",
        "#y = dataframe.iloc[:,8]\n",
        "x_train,x_test,y_train,y_test = train_test_split(x,y,test_size = 0.33,random_state=1)"
      ],
      "metadata": {
        "id": "Rrm8lOWUc5iC"
      },
      "execution_count": 5,
      "outputs": []
    },
    {
      "cell_type": "markdown",
      "source": [
        "# Define the Model architecture"
      ],
      "metadata": {
        "id": "Vus0AxAoipb2"
      }
    },
    {
      "cell_type": "code",
      "source": [
        "model = Sequential()\n",
        "model.add(Dense(12,input_dim=8,  activation= 'relu' ))\n",
        "model.add(Dense(8,  activation= 'relu' ))\n",
        "model.add(Dense(1,  activation= 'sigmoid' ))"
      ],
      "metadata": {
        "id": "RcQIIE15LiOk"
      },
      "execution_count": 6,
      "outputs": []
    },
    {
      "cell_type": "code",
      "source": [
        "model.compile(loss='binary_crossentropy',optimizer= 'adam', metrics=['accuracy']) #configuration for training the model "
      ],
      "metadata": {
        "id": "CGgXP0bXLo5Y"
      },
      "execution_count": 7,
      "outputs": []
    },
    {
      "cell_type": "code",
      "source": [
        "model.fit(x,y,batch_size=20,epochs=100,validation_data=(x_test,y_test))"
      ],
      "metadata": {
        "id": "gC_9kXIUiIQK",
        "colab": {
          "base_uri": "https://localhost:8080/"
        },
        "outputId": "2a43590a-bf15-4de9-e8a8-6a5e5f69041f"
      },
      "execution_count": 8,
      "outputs": [
        {
          "output_type": "stream",
          "name": "stdout",
          "text": [
            "Epoch 1/100\n",
            "39/39 [==============================] - 6s 13ms/step - loss: 4.7663 - accuracy: 0.4727 - val_loss: 3.6272 - val_accuracy: 0.4213\n",
            "Epoch 2/100\n",
            "39/39 [==============================] - 0s 11ms/step - loss: 2.7399 - accuracy: 0.4648 - val_loss: 2.1267 - val_accuracy: 0.4803\n",
            "Epoch 3/100\n",
            "39/39 [==============================] - 0s 10ms/step - loss: 1.8918 - accuracy: 0.4883 - val_loss: 1.5488 - val_accuracy: 0.4882\n",
            "Epoch 4/100\n",
            "39/39 [==============================] - 0s 9ms/step - loss: 1.4536 - accuracy: 0.5234 - val_loss: 1.2219 - val_accuracy: 0.5354\n",
            "Epoch 5/100\n",
            "39/39 [==============================] - 0s 7ms/step - loss: 1.1896 - accuracy: 0.5534 - val_loss: 1.0198 - val_accuracy: 0.5630\n",
            "Epoch 6/100\n",
            "39/39 [==============================] - 0s 8ms/step - loss: 1.0171 - accuracy: 0.5677 - val_loss: 0.9356 - val_accuracy: 0.5827\n",
            "Epoch 7/100\n",
            "39/39 [==============================] - 0s 8ms/step - loss: 0.9319 - accuracy: 0.5859 - val_loss: 0.8807 - val_accuracy: 0.6024\n",
            "Epoch 8/100\n",
            "39/39 [==============================] - 0s 7ms/step - loss: 0.8692 - accuracy: 0.5977 - val_loss: 0.8674 - val_accuracy: 0.6260\n",
            "Epoch 9/100\n",
            "39/39 [==============================] - 0s 7ms/step - loss: 0.8111 - accuracy: 0.6315 - val_loss: 0.7686 - val_accuracy: 0.6378\n",
            "Epoch 10/100\n",
            "39/39 [==============================] - 0s 8ms/step - loss: 0.7867 - accuracy: 0.6081 - val_loss: 0.8253 - val_accuracy: 0.6417\n",
            "Epoch 11/100\n",
            "39/39 [==============================] - 0s 8ms/step - loss: 0.7863 - accuracy: 0.6211 - val_loss: 0.7404 - val_accuracy: 0.6575\n",
            "Epoch 12/100\n",
            "39/39 [==============================] - 0s 9ms/step - loss: 0.7363 - accuracy: 0.6602 - val_loss: 0.7259 - val_accuracy: 0.6535\n",
            "Epoch 13/100\n",
            "39/39 [==============================] - 1s 18ms/step - loss: 0.7309 - accuracy: 0.6276 - val_loss: 0.7576 - val_accuracy: 0.6496\n",
            "Epoch 14/100\n",
            "39/39 [==============================] - 1s 18ms/step - loss: 0.7294 - accuracy: 0.6549 - val_loss: 0.6989 - val_accuracy: 0.6496\n",
            "Epoch 15/100\n",
            "39/39 [==============================] - 0s 12ms/step - loss: 0.6996 - accuracy: 0.6654 - val_loss: 0.6664 - val_accuracy: 0.7165\n",
            "Epoch 16/100\n",
            "39/39 [==============================] - 0s 11ms/step - loss: 0.6833 - accuracy: 0.6667 - val_loss: 0.6660 - val_accuracy: 0.6890\n",
            "Epoch 17/100\n",
            "39/39 [==============================] - 1s 13ms/step - loss: 0.6704 - accuracy: 0.6849 - val_loss: 0.6419 - val_accuracy: 0.7047\n",
            "Epoch 18/100\n",
            "39/39 [==============================] - 0s 9ms/step - loss: 0.6852 - accuracy: 0.6641 - val_loss: 0.6512 - val_accuracy: 0.7126\n",
            "Epoch 19/100\n",
            "39/39 [==============================] - 0s 8ms/step - loss: 0.6752 - accuracy: 0.6471 - val_loss: 0.6319 - val_accuracy: 0.7087\n",
            "Epoch 20/100\n",
            "39/39 [==============================] - 0s 8ms/step - loss: 0.6488 - accuracy: 0.6927 - val_loss: 0.6075 - val_accuracy: 0.7205\n",
            "Epoch 21/100\n",
            "39/39 [==============================] - 0s 11ms/step - loss: 0.6449 - accuracy: 0.7005 - val_loss: 0.6071 - val_accuracy: 0.7087\n",
            "Epoch 22/100\n",
            "39/39 [==============================] - 0s 7ms/step - loss: 0.6303 - accuracy: 0.7201 - val_loss: 0.6271 - val_accuracy: 0.7047\n",
            "Epoch 23/100\n",
            "39/39 [==============================] - 0s 8ms/step - loss: 0.6470 - accuracy: 0.7096 - val_loss: 0.5939 - val_accuracy: 0.7165\n",
            "Epoch 24/100\n",
            "39/39 [==============================] - 0s 9ms/step - loss: 0.6223 - accuracy: 0.6979 - val_loss: 0.5955 - val_accuracy: 0.7047\n",
            "Epoch 25/100\n",
            "39/39 [==============================] - 0s 12ms/step - loss: 0.6284 - accuracy: 0.6901 - val_loss: 0.6503 - val_accuracy: 0.6732\n",
            "Epoch 26/100\n",
            "39/39 [==============================] - 0s 5ms/step - loss: 0.6424 - accuracy: 0.6771 - val_loss: 0.5964 - val_accuracy: 0.7008\n",
            "Epoch 27/100\n",
            "39/39 [==============================] - 0s 4ms/step - loss: 0.6149 - accuracy: 0.6992 - val_loss: 0.5823 - val_accuracy: 0.7087\n",
            "Epoch 28/100\n",
            "39/39 [==============================] - 0s 4ms/step - loss: 0.6291 - accuracy: 0.6810 - val_loss: 0.5818 - val_accuracy: 0.6772\n",
            "Epoch 29/100\n",
            "39/39 [==============================] - 0s 6ms/step - loss: 0.6142 - accuracy: 0.6966 - val_loss: 0.5785 - val_accuracy: 0.7008\n",
            "Epoch 30/100\n",
            "39/39 [==============================] - 0s 4ms/step - loss: 0.6110 - accuracy: 0.6901 - val_loss: 0.5805 - val_accuracy: 0.7047\n",
            "Epoch 31/100\n",
            "39/39 [==============================] - 0s 5ms/step - loss: 0.6131 - accuracy: 0.6940 - val_loss: 0.5882 - val_accuracy: 0.6850\n",
            "Epoch 32/100\n",
            "39/39 [==============================] - 0s 4ms/step - loss: 0.6048 - accuracy: 0.6979 - val_loss: 0.5686 - val_accuracy: 0.7047\n",
            "Epoch 33/100\n",
            "39/39 [==============================] - 0s 5ms/step - loss: 0.5936 - accuracy: 0.7096 - val_loss: 0.5803 - val_accuracy: 0.6811\n",
            "Epoch 34/100\n",
            "39/39 [==============================] - 0s 5ms/step - loss: 0.5928 - accuracy: 0.7122 - val_loss: 0.5604 - val_accuracy: 0.7323\n",
            "Epoch 35/100\n",
            "39/39 [==============================] - 0s 5ms/step - loss: 0.6007 - accuracy: 0.7070 - val_loss: 0.5529 - val_accuracy: 0.7283\n",
            "Epoch 36/100\n",
            "39/39 [==============================] - 0s 5ms/step - loss: 0.5909 - accuracy: 0.7214 - val_loss: 0.5627 - val_accuracy: 0.6850\n",
            "Epoch 37/100\n",
            "39/39 [==============================] - 0s 6ms/step - loss: 0.5975 - accuracy: 0.7005 - val_loss: 0.5482 - val_accuracy: 0.7362\n",
            "Epoch 38/100\n",
            "39/39 [==============================] - 0s 4ms/step - loss: 0.5819 - accuracy: 0.7161 - val_loss: 0.5649 - val_accuracy: 0.7126\n",
            "Epoch 39/100\n",
            "39/39 [==============================] - 0s 5ms/step - loss: 0.5768 - accuracy: 0.7188 - val_loss: 0.5457 - val_accuracy: 0.7126\n",
            "Epoch 40/100\n",
            "39/39 [==============================] - 0s 5ms/step - loss: 0.5894 - accuracy: 0.7253 - val_loss: 0.5662 - val_accuracy: 0.7205\n",
            "Epoch 41/100\n",
            "39/39 [==============================] - 0s 5ms/step - loss: 0.6050 - accuracy: 0.7018 - val_loss: 0.5535 - val_accuracy: 0.7126\n",
            "Epoch 42/100\n",
            "39/39 [==============================] - 0s 4ms/step - loss: 0.5881 - accuracy: 0.7279 - val_loss: 0.5694 - val_accuracy: 0.7126\n",
            "Epoch 43/100\n",
            "39/39 [==============================] - 0s 5ms/step - loss: 0.5994 - accuracy: 0.7070 - val_loss: 0.5639 - val_accuracy: 0.7126\n",
            "Epoch 44/100\n",
            "39/39 [==============================] - 0s 5ms/step - loss: 0.5870 - accuracy: 0.7240 - val_loss: 0.5587 - val_accuracy: 0.7126\n",
            "Epoch 45/100\n",
            "39/39 [==============================] - 0s 4ms/step - loss: 0.5873 - accuracy: 0.7174 - val_loss: 0.5560 - val_accuracy: 0.7205\n",
            "Epoch 46/100\n",
            "39/39 [==============================] - 0s 5ms/step - loss: 0.5951 - accuracy: 0.7031 - val_loss: 0.6043 - val_accuracy: 0.6811\n",
            "Epoch 47/100\n",
            "39/39 [==============================] - 0s 6ms/step - loss: 0.5840 - accuracy: 0.7174 - val_loss: 0.5347 - val_accuracy: 0.7520\n",
            "Epoch 48/100\n",
            "39/39 [==============================] - 0s 5ms/step - loss: 0.5742 - accuracy: 0.7240 - val_loss: 0.5438 - val_accuracy: 0.7323\n",
            "Epoch 49/100\n",
            "39/39 [==============================] - 0s 4ms/step - loss: 0.5669 - accuracy: 0.7305 - val_loss: 0.5523 - val_accuracy: 0.7283\n",
            "Epoch 50/100\n",
            "39/39 [==============================] - 0s 4ms/step - loss: 0.5750 - accuracy: 0.7161 - val_loss: 0.5653 - val_accuracy: 0.7087\n",
            "Epoch 51/100\n",
            "39/39 [==============================] - 0s 5ms/step - loss: 0.5684 - accuracy: 0.7083 - val_loss: 0.5867 - val_accuracy: 0.7008\n",
            "Epoch 52/100\n",
            "39/39 [==============================] - 0s 4ms/step - loss: 0.5661 - accuracy: 0.7214 - val_loss: 0.5682 - val_accuracy: 0.6850\n",
            "Epoch 53/100\n",
            "39/39 [==============================] - 0s 5ms/step - loss: 0.5800 - accuracy: 0.7227 - val_loss: 0.5735 - val_accuracy: 0.6890\n",
            "Epoch 54/100\n",
            "39/39 [==============================] - 0s 5ms/step - loss: 0.5722 - accuracy: 0.7266 - val_loss: 0.5685 - val_accuracy: 0.7323\n",
            "Epoch 55/100\n",
            "39/39 [==============================] - 0s 5ms/step - loss: 0.5670 - accuracy: 0.7240 - val_loss: 0.6000 - val_accuracy: 0.6811\n",
            "Epoch 56/100\n",
            "39/39 [==============================] - 0s 5ms/step - loss: 0.5641 - accuracy: 0.7357 - val_loss: 0.5301 - val_accuracy: 0.7480\n",
            "Epoch 57/100\n",
            "39/39 [==============================] - 0s 4ms/step - loss: 0.5580 - accuracy: 0.7305 - val_loss: 0.5322 - val_accuracy: 0.7520\n",
            "Epoch 58/100\n",
            "39/39 [==============================] - 0s 5ms/step - loss: 0.5597 - accuracy: 0.7305 - val_loss: 0.5243 - val_accuracy: 0.7559\n",
            "Epoch 59/100\n",
            "39/39 [==============================] - 0s 4ms/step - loss: 0.5575 - accuracy: 0.7318 - val_loss: 0.5645 - val_accuracy: 0.7087\n",
            "Epoch 60/100\n",
            "39/39 [==============================] - 0s 6ms/step - loss: 0.5568 - accuracy: 0.7148 - val_loss: 0.5205 - val_accuracy: 0.7323\n",
            "Epoch 61/100\n",
            "39/39 [==============================] - 0s 6ms/step - loss: 0.5620 - accuracy: 0.7214 - val_loss: 0.5582 - val_accuracy: 0.7244\n",
            "Epoch 62/100\n",
            "39/39 [==============================] - 0s 8ms/step - loss: 0.5607 - accuracy: 0.7370 - val_loss: 0.5499 - val_accuracy: 0.7126\n",
            "Epoch 63/100\n",
            "39/39 [==============================] - 0s 7ms/step - loss: 0.5694 - accuracy: 0.7214 - val_loss: 0.5239 - val_accuracy: 0.7559\n",
            "Epoch 64/100\n",
            "39/39 [==============================] - 0s 7ms/step - loss: 0.5491 - accuracy: 0.7409 - val_loss: 0.5389 - val_accuracy: 0.7205\n",
            "Epoch 65/100\n",
            "39/39 [==============================] - 0s 7ms/step - loss: 0.5614 - accuracy: 0.7240 - val_loss: 0.5335 - val_accuracy: 0.7402\n",
            "Epoch 66/100\n",
            "39/39 [==============================] - 0s 7ms/step - loss: 0.5691 - accuracy: 0.7057 - val_loss: 0.5305 - val_accuracy: 0.7283\n",
            "Epoch 67/100\n",
            "39/39 [==============================] - 0s 7ms/step - loss: 0.5677 - accuracy: 0.7266 - val_loss: 0.5121 - val_accuracy: 0.7638\n",
            "Epoch 68/100\n",
            "39/39 [==============================] - 0s 7ms/step - loss: 0.5517 - accuracy: 0.7227 - val_loss: 0.5389 - val_accuracy: 0.7244\n",
            "Epoch 69/100\n",
            "39/39 [==============================] - 0s 6ms/step - loss: 0.5548 - accuracy: 0.7344 - val_loss: 0.5141 - val_accuracy: 0.7480\n",
            "Epoch 70/100\n",
            "39/39 [==============================] - 0s 5ms/step - loss: 0.5654 - accuracy: 0.7044 - val_loss: 0.5527 - val_accuracy: 0.7244\n",
            "Epoch 71/100\n",
            "39/39 [==============================] - 0s 4ms/step - loss: 0.5387 - accuracy: 0.7266 - val_loss: 0.5376 - val_accuracy: 0.7244\n",
            "Epoch 72/100\n",
            "39/39 [==============================] - 0s 4ms/step - loss: 0.5568 - accuracy: 0.7148 - val_loss: 0.5118 - val_accuracy: 0.7559\n",
            "Epoch 73/100\n",
            "39/39 [==============================] - 0s 4ms/step - loss: 0.5486 - accuracy: 0.7448 - val_loss: 0.4991 - val_accuracy: 0.7598\n",
            "Epoch 74/100\n",
            "39/39 [==============================] - 0s 4ms/step - loss: 0.5505 - accuracy: 0.7370 - val_loss: 0.4996 - val_accuracy: 0.7717\n",
            "Epoch 75/100\n",
            "39/39 [==============================] - 0s 5ms/step - loss: 0.5471 - accuracy: 0.7461 - val_loss: 0.5057 - val_accuracy: 0.7441\n",
            "Epoch 76/100\n",
            "39/39 [==============================] - 0s 4ms/step - loss: 0.5504 - accuracy: 0.7279 - val_loss: 0.5195 - val_accuracy: 0.7402\n",
            "Epoch 77/100\n",
            "39/39 [==============================] - 0s 5ms/step - loss: 0.5379 - accuracy: 0.7461 - val_loss: 0.5199 - val_accuracy: 0.7323\n",
            "Epoch 78/100\n",
            "39/39 [==============================] - 0s 5ms/step - loss: 0.5478 - accuracy: 0.7474 - val_loss: 0.4958 - val_accuracy: 0.7598\n",
            "Epoch 79/100\n",
            "39/39 [==============================] - 0s 5ms/step - loss: 0.5450 - accuracy: 0.7201 - val_loss: 0.5305 - val_accuracy: 0.7441\n",
            "Epoch 80/100\n",
            "39/39 [==============================] - 0s 4ms/step - loss: 0.5572 - accuracy: 0.7096 - val_loss: 0.5295 - val_accuracy: 0.7480\n",
            "Epoch 81/100\n",
            "39/39 [==============================] - 0s 4ms/step - loss: 0.5406 - accuracy: 0.7370 - val_loss: 0.5004 - val_accuracy: 0.7717\n",
            "Epoch 82/100\n",
            "39/39 [==============================] - 0s 4ms/step - loss: 0.5433 - accuracy: 0.7383 - val_loss: 0.5103 - val_accuracy: 0.7598\n",
            "Epoch 83/100\n",
            "39/39 [==============================] - 0s 6ms/step - loss: 0.5424 - accuracy: 0.7253 - val_loss: 0.5363 - val_accuracy: 0.7362\n",
            "Epoch 84/100\n",
            "39/39 [==============================] - 0s 5ms/step - loss: 0.5347 - accuracy: 0.7357 - val_loss: 0.4936 - val_accuracy: 0.7717\n",
            "Epoch 85/100\n",
            "39/39 [==============================] - 0s 4ms/step - loss: 0.5437 - accuracy: 0.7279 - val_loss: 0.5270 - val_accuracy: 0.7323\n",
            "Epoch 86/100\n",
            "39/39 [==============================] - 0s 5ms/step - loss: 0.5429 - accuracy: 0.7266 - val_loss: 0.4969 - val_accuracy: 0.7598\n",
            "Epoch 87/100\n",
            "39/39 [==============================] - 0s 4ms/step - loss: 0.5349 - accuracy: 0.7422 - val_loss: 0.4958 - val_accuracy: 0.7598\n",
            "Epoch 88/100\n",
            "39/39 [==============================] - 0s 4ms/step - loss: 0.5454 - accuracy: 0.7370 - val_loss: 0.5363 - val_accuracy: 0.7283\n",
            "Epoch 89/100\n",
            "39/39 [==============================] - 0s 4ms/step - loss: 0.5450 - accuracy: 0.7279 - val_loss: 0.5054 - val_accuracy: 0.7677\n",
            "Epoch 90/100\n",
            "39/39 [==============================] - 0s 4ms/step - loss: 0.5288 - accuracy: 0.7500 - val_loss: 0.5305 - val_accuracy: 0.7402\n",
            "Epoch 91/100\n",
            "39/39 [==============================] - 0s 5ms/step - loss: 0.5484 - accuracy: 0.7279 - val_loss: 0.4975 - val_accuracy: 0.7677\n",
            "Epoch 92/100\n",
            "39/39 [==============================] - 0s 4ms/step - loss: 0.5419 - accuracy: 0.7422 - val_loss: 0.5649 - val_accuracy: 0.7244\n",
            "Epoch 93/100\n",
            "39/39 [==============================] - 0s 4ms/step - loss: 0.5699 - accuracy: 0.7201 - val_loss: 0.5032 - val_accuracy: 0.7638\n",
            "Epoch 94/100\n",
            "39/39 [==============================] - 0s 6ms/step - loss: 0.5436 - accuracy: 0.7318 - val_loss: 0.4925 - val_accuracy: 0.7717\n",
            "Epoch 95/100\n",
            "39/39 [==============================] - 0s 4ms/step - loss: 0.5324 - accuracy: 0.7474 - val_loss: 0.4899 - val_accuracy: 0.7677\n",
            "Epoch 96/100\n",
            "39/39 [==============================] - 0s 4ms/step - loss: 0.5484 - accuracy: 0.7331 - val_loss: 0.4879 - val_accuracy: 0.7559\n",
            "Epoch 97/100\n",
            "39/39 [==============================] - 0s 5ms/step - loss: 0.5342 - accuracy: 0.7409 - val_loss: 0.4937 - val_accuracy: 0.7559\n",
            "Epoch 98/100\n",
            "39/39 [==============================] - 0s 4ms/step - loss: 0.5232 - accuracy: 0.7461 - val_loss: 0.4838 - val_accuracy: 0.7913\n",
            "Epoch 99/100\n",
            "39/39 [==============================] - 0s 6ms/step - loss: 0.5278 - accuracy: 0.7487 - val_loss: 0.5045 - val_accuracy: 0.7441\n",
            "Epoch 100/100\n",
            "39/39 [==============================] - 0s 4ms/step - loss: 0.5301 - accuracy: 0.7396 - val_loss: 0.4929 - val_accuracy: 0.7717\n"
          ]
        },
        {
          "output_type": "execute_result",
          "data": {
            "text/plain": [
              "<keras.callbacks.History at 0x7ffab0172c10>"
            ]
          },
          "metadata": {},
          "execution_count": 8
        }
      ]
    },
    {
      "cell_type": "code",
      "source": [
        "scores = model.evaluate(x,y)\n",
        "print(\"%s: %.2f%%\" % (model.metrics_names[1], scores[1]*100))"
      ],
      "metadata": {
        "colab": {
          "base_uri": "https://localhost:8080/"
        },
        "id": "ralMTg6TkI7B",
        "outputId": "601cf249-dac9-461b-99ca-76ae68f45505"
      },
      "execution_count": 9,
      "outputs": [
        {
          "output_type": "stream",
          "name": "stdout",
          "text": [
            "24/24 [==============================] - 0s 2ms/step - loss: 0.5234 - accuracy: 0.7500\n",
            "accuracy: 75.00%\n"
          ]
        }
      ]
    },
    {
      "cell_type": "markdown",
      "source": [
        "# K-Fold Validation Sets"
      ],
      "metadata": {
        "id": "jUo0g3Ouxu7P"
      }
    },
    {
      "cell_type": "code",
      "source": [
        "from sklearn.model_selection import StratifiedKFold\n",
        "import numpy as np\n",
        "\n",
        "kfold = StratifiedKFold(n_splits=10,shuffle=True,random_state=1)\n",
        "cross_val = []\n",
        "for train_index, test_index in kfold.split(x, y):\n",
        "    X_train, X_test = x.iloc[train_index], x.iloc[test_index]\n",
        "    y_train, y_test = y[train_index], y[test_index]\n",
        "    model = Sequential()\n",
        "    model.add(Dense(12,input_dim=8,  activation= 'relu' ))\n",
        "    model.add(Dense(8,  activation= 'relu' ))\n",
        "    model.add(Dense(1,  activation= 'sigmoid' ))\n",
        "    model.compile(loss='binary_crossentropy',optimizer= 'adam', metrics=['accuracy']) #configuration for training the model \n",
        "    model.fit(X_train,y_train,batch_size=20,epochs=150,verbose = 0)\n",
        "    scores = model.evaluate(X_test,y_test,verbose=0)\n",
        "    print(\"%s : %.2f%%\"%(model.metrics_names[1],scores[1]*100))\n",
        "    cross_val.append(scores[1]*100)\n",
        "\n",
        "print(\"%.2f%% (+/- %.2f%%)\" % (np.mean(cross_val), np.std(cross_val)))"
      ],
      "metadata": {
        "colab": {
          "base_uri": "https://localhost:8080/"
        },
        "id": "uh2ixShPxzu9",
        "outputId": "fc45f6eb-1154-4538-ba64-443eb876fd43"
      },
      "execution_count": 10,
      "outputs": [
        {
          "output_type": "stream",
          "name": "stdout",
          "text": [
            "accuracy : 70.13%\n",
            "accuracy : 72.73%\n",
            "accuracy : 68.83%\n"
          ]
        },
        {
          "output_type": "stream",
          "name": "stderr",
          "text": [
            "WARNING:tensorflow:5 out of the last 1334 calls to <function Model.make_test_function.<locals>.test_function at 0x7ffa32646700> triggered tf.function retracing. Tracing is expensive and the excessive number of tracings could be due to (1) creating @tf.function repeatedly in a loop, (2) passing tensors with different shapes, (3) passing Python objects instead of tensors. For (1), please define your @tf.function outside of the loop. For (2), @tf.function has reduce_retracing=True option that can avoid unnecessary retracing. For (3), please refer to https://www.tensorflow.org/guide/function#controlling_retracing and https://www.tensorflow.org/api_docs/python/tf/function for  more details.\n"
          ]
        },
        {
          "output_type": "stream",
          "name": "stdout",
          "text": [
            "accuracy : 71.43%\n"
          ]
        },
        {
          "output_type": "stream",
          "name": "stderr",
          "text": [
            "WARNING:tensorflow:5 out of the last 13 calls to <function Model.make_test_function.<locals>.test_function at 0x7ffa327a8550> triggered tf.function retracing. Tracing is expensive and the excessive number of tracings could be due to (1) creating @tf.function repeatedly in a loop, (2) passing tensors with different shapes, (3) passing Python objects instead of tensors. For (1), please define your @tf.function outside of the loop. For (2), @tf.function has reduce_retracing=True option that can avoid unnecessary retracing. For (3), please refer to https://www.tensorflow.org/guide/function#controlling_retracing and https://www.tensorflow.org/api_docs/python/tf/function for  more details.\n"
          ]
        },
        {
          "output_type": "stream",
          "name": "stdout",
          "text": [
            "accuracy : 75.32%\n",
            "accuracy : 76.62%\n",
            "accuracy : 64.94%\n",
            "accuracy : 67.53%\n",
            "accuracy : 69.74%\n",
            "accuracy : 60.53%\n",
            "69.78% (+/- 4.52%)\n"
          ]
        }
      ]
    },
    {
      "cell_type": "markdown",
      "source": [
        "# Keras with Scikit Learn"
      ],
      "metadata": {
        "id": "Yp0qhyGPQ3AK"
      }
    },
    {
      "cell_type": "code",
      "source": [
        "from sklearn.model_selection import StratifiedKFold\n",
        "from sklearn.model_selection import cross_val_score\n",
        "from keras.models import Sequential\n",
        "from keras.layers import Dense\n",
        "from keras.wrappers.scikit_learn import KerasClassifier\n",
        "import numpy as np\n",
        "\n",
        "def create_model():\n",
        "    model = Sequential()\n",
        "    model.add(Dense(12,input_dim=8,  activation= 'relu' ))\n",
        "    model.add(Dense(8,  activation= 'relu' ))\n",
        "    model.add(Dense(1,  activation= 'sigmoid' ))\n",
        "    model.compile(loss='binary_crossentropy',optimizer= 'adam', metrics=['accuracy']) #configuration for training the model \n",
        "    return model\n",
        "\n",
        "seed = 7\n",
        "np.random.seed(seed)\n",
        "model = KerasClassifier(build_fn=create_model,nb_epoch=150, batch_size=10, verbose=0)\n",
        "kfold = StratifiedKFold(n_splits=10, shuffle=True, random_state=seed)\n",
        "results = cross_val_score(model, x, y, cv=kfold)\n",
        "print(results.mean())"
      ],
      "metadata": {
        "colab": {
          "base_uri": "https://localhost:8080/"
        },
        "id": "13RnU9RoQ7BA",
        "outputId": "c2259786-14be-43de-c1cb-166b811ada22"
      },
      "execution_count": 11,
      "outputs": [
        {
          "output_type": "stream",
          "name": "stderr",
          "text": [
            "<ipython-input-11-4de2de61e123>:18: DeprecationWarning: KerasClassifier is deprecated, use Sci-Keras (https://github.com/adriangb/scikeras) instead. See https://www.adriangb.com/scikeras/stable/migration.html for help migrating.\n",
            "  model = KerasClassifier(build_fn=create_model,nb_epoch=150, batch_size=10, verbose=0)\n"
          ]
        },
        {
          "output_type": "stream",
          "name": "stdout",
          "text": [
            "0.5159261852502823\n"
          ]
        }
      ]
    },
    {
      "cell_type": "code",
      "source": [
        "from keras.backend import batch_flatten\n",
        "from keras.models import Sequential\n",
        "from keras.layers import Dense\n",
        "from keras.wrappers.scikit_learn import KerasClassifier\n",
        "from sklearn.model_selection import GridSearchCV\n",
        "import numpy as np\n",
        "from keras.backend import batch_flatten\n",
        "from keras.models import Sequential\n",
        "from keras.layers import Dense\n",
        "from keras.wrappers.scikit_learn import KerasClassifier\n",
        "from sklearn.model_selection import GridSearchCV\n",
        "import numpy as np\n",
        "\n",
        "def create_model(optimizer='rmsprop', kernel_initializer='glorot_uniform'):\n",
        "  model = Sequential()\n",
        "  model.add(Dense(12, input_dim=8, kernel_initializer=kernel_initializer, activation='relu'))\n",
        "  model.add(Dense(8, kernel_initializer=kernel_initializer, activation='relu'))\n",
        "  model.add(Dense(1, kernel_initializer=kernel_initializer, activation='sigmoid'))\n",
        "  model.compile(loss='binary_crossentropy', optimizer=optimizer, metrics=['accuracy'])\n",
        "  return model\n",
        "\n",
        "seed = 7\n",
        "np.random.seed(seed)\n",
        "model = KerasClassifier(build_fn=create_model, verbose=0)\n",
        "# grid search epochs, batch size and optimizer\n",
        "optimizers = ['rmsprop', 'adam']\n",
        "kernel_initializer = ['glorot_uniform', 'normal', 'uniform']\n",
        "epochs = np.array([50, 75,100])\n",
        "batches = np.array([5, 10,20])\n",
        "param_grid = dict(optimizer=optimizers, epochs=epochs, batch_size=batches, kernel_initializer=kernel_initializer)\n",
        "grid = GridSearchCV(estimator=model, param_grid=param_grid)\n",
        "grid_result = grid.fit(x, y)\n",
        "# summarize results\n",
        "print(\"Best: %f using %s\" % (grid_result.best_score_, grid_result.best_params_))\n",
        "for params, mean_score, std_score in zip(grid_result.cv_results_['params'], \n",
        "                                         grid_result.cv_results_['mean_test_score'],\n",
        "                                         grid_result.cv_results_['std_test_score']):\n",
        "    print(\"%f (%f) with: %r\" % (mean_score, std_score, params))\n"
      ],
      "metadata": {
        "colab": {
          "base_uri": "https://localhost:8080/"
        },
        "id": "ASdSdGeGTHdv",
        "outputId": "85e857fc-4ffc-46cd-d6eb-eeb03b35c2ae"
      },
      "execution_count": 12,
      "outputs": [
        {
          "output_type": "stream",
          "name": "stderr",
          "text": [
            "<ipython-input-12-25f4be7035f8>:24: DeprecationWarning: KerasClassifier is deprecated, use Sci-Keras (https://github.com/adriangb/scikeras) instead. See https://www.adriangb.com/scikeras/stable/migration.html for help migrating.\n",
            "  model = KerasClassifier(build_fn=create_model, verbose=0)\n"
          ]
        },
        {
          "output_type": "stream",
          "name": "stdout",
          "text": [
            "Best: 0.754036 using {'batch_size': 5, 'epochs': 75, 'kernel_initializer': 'uniform', 'optimizer': 'rmsprop'}\n",
            "0.665283 (0.046665) with: {'batch_size': 5, 'epochs': 50, 'kernel_initializer': 'glorot_uniform', 'optimizer': 'rmsprop'}\n",
            "0.721399 (0.040159) with: {'batch_size': 5, 'epochs': 50, 'kernel_initializer': 'glorot_uniform', 'optimizer': 'adam'}\n",
            "0.708412 (0.040567) with: {'batch_size': 5, 'epochs': 50, 'kernel_initializer': 'normal', 'optimizer': 'rmsprop'}\n",
            "0.724005 (0.028277) with: {'batch_size': 5, 'epochs': 50, 'kernel_initializer': 'normal', 'optimizer': 'adam'}\n",
            "0.717435 (0.050945) with: {'batch_size': 5, 'epochs': 50, 'kernel_initializer': 'uniform', 'optimizer': 'rmsprop'}\n",
            "0.726551 (0.012560) with: {'batch_size': 5, 'epochs': 50, 'kernel_initializer': 'uniform', 'optimizer': 'adam'}\n",
            "0.691410 (0.017678) with: {'batch_size': 5, 'epochs': 75, 'kernel_initializer': 'glorot_uniform', 'optimizer': 'rmsprop'}\n",
            "0.690298 (0.061628) with: {'batch_size': 5, 'epochs': 75, 'kernel_initializer': 'glorot_uniform', 'optimizer': 'adam'}\n",
            "0.740939 (0.035664) with: {'batch_size': 5, 'epochs': 75, 'kernel_initializer': 'normal', 'optimizer': 'rmsprop'}\n",
            "0.734420 (0.026057) with: {'batch_size': 5, 'epochs': 75, 'kernel_initializer': 'normal', 'optimizer': 'adam'}\n",
            "0.754036 (0.046408) with: {'batch_size': 5, 'epochs': 75, 'kernel_initializer': 'uniform', 'optimizer': 'rmsprop'}\n",
            "0.748799 (0.048668) with: {'batch_size': 5, 'epochs': 75, 'kernel_initializer': 'uniform', 'optimizer': 'adam'}\n",
            "0.681063 (0.046029) with: {'batch_size': 10, 'epochs': 50, 'kernel_initializer': 'glorot_uniform', 'optimizer': 'rmsprop'}\n",
            "0.672057 (0.069279) with: {'batch_size': 10, 'epochs': 50, 'kernel_initializer': 'glorot_uniform', 'optimizer': 'adam'}\n",
            "0.716221 (0.043875) with: {'batch_size': 10, 'epochs': 50, 'kernel_initializer': 'normal', 'optimizer': 'rmsprop'}\n",
            "0.718776 (0.041695) with: {'batch_size': 10, 'epochs': 50, 'kernel_initializer': 'normal', 'optimizer': 'adam'}\n",
            "0.709651 (0.030061) with: {'batch_size': 10, 'epochs': 50, 'kernel_initializer': 'uniform', 'optimizer': 'rmsprop'}\n",
            "0.712359 (0.055798) with: {'batch_size': 10, 'epochs': 50, 'kernel_initializer': 'uniform', 'optimizer': 'adam'}\n",
            "0.704473 (0.047579) with: {'batch_size': 10, 'epochs': 75, 'kernel_initializer': 'glorot_uniform', 'optimizer': 'rmsprop'}\n",
            "0.695391 (0.031257) with: {'batch_size': 10, 'epochs': 75, 'kernel_initializer': 'glorot_uniform', 'optimizer': 'adam'}\n",
            "0.713505 (0.035705) with: {'batch_size': 10, 'epochs': 75, 'kernel_initializer': 'normal', 'optimizer': 'rmsprop'}\n",
            "0.727850 (0.015278) with: {'batch_size': 10, 'epochs': 75, 'kernel_initializer': 'normal', 'optimizer': 'adam'}\n",
            "0.717494 (0.014870) with: {'batch_size': 10, 'epochs': 75, 'kernel_initializer': 'uniform', 'optimizer': 'rmsprop'}\n",
            "0.722706 (0.020584) with: {'batch_size': 10, 'epochs': 75, 'kernel_initializer': 'uniform', 'optimizer': 'adam'}\n"
          ]
        }
      ]
    },
    {
      "cell_type": "code",
      "source": [],
      "metadata": {
        "id": "ZAL1GeGfeRe9"
      },
      "execution_count": null,
      "outputs": []
    }
  ]
}